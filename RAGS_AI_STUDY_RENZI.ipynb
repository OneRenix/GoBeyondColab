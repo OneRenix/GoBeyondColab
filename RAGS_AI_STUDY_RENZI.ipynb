{
  "nbformat": 4,
  "nbformat_minor": 0,
  "metadata": {
    "colab": {
      "provenance": [],
      "authorship_tag": "ABX9TyPGVY5eczuPutCRPpyqRjJG",
      "include_colab_link": true
    },
    "kernelspec": {
      "name": "python3",
      "display_name": "Python 3"
    },
    "language_info": {
      "name": "python"
    }
  },
  "cells": [
    {
      "cell_type": "markdown",
      "metadata": {
        "id": "view-in-github",
        "colab_type": "text"
      },
      "source": [
        "<a href=\"https://colab.research.google.com/github/OneRenix/GoBeyondColab/blob/main/RAGS_AI_STUDY_RENZI.ipynb\" target=\"_parent\"><img src=\"https://colab.research.google.com/assets/colab-badge.svg\" alt=\"Open In Colab\"/></a>"
      ]
    },
    {
      "cell_type": "markdown",
      "source": [
        "# Simple RAG Application for AI Study Group:\n",
        "\n",
        "**This code demonstrates the Retrieval-Augmented Generation (RAG) process:**\n",
        "\n",
        "1. It creates a small document.\n",
        "2. It uses a special AI model from Google to understand the meaning of the document and store it in a database (ChromaDB).\n",
        "3. When you ask a question, it uses the same AI model to understand the meaning of your question.\n",
        "4. It searches the database for the most relevant information related to your question.\n",
        "5. It then takes your original question and the relevant information it found and gives it to another AI model (Gemini) to generate a comprehensive answer.\n",
        "\n",
        "\n",
        "**This approach helps language models provide more accurate and up-to-date answers by grounding them in specific knowledge sources.**\n",
        "\n",
        "---\n"
      ],
      "metadata": {
        "id": "NA29GzYVfdqy"
      }
    },
    {
      "cell_type": "markdown",
      "source": [
        "**Prerequisites:**\n",
        "1. Google Account\n",
        "2. Create a Google Gemini API Key in AI Studio: https://aistudio.google.com/app/apikey\n",
        "3. If an error is encountered, setup your GCP Console account here: https://console.cloud.google.com/\n",
        "4. Add your API Key in the Notebook under Secrets. Enable Notebook Access"
      ],
      "metadata": {
        "id": "sLVH_hv9lAmr"
      }
    },
    {
      "cell_type": "markdown",
      "source": [
        "# **Install necessary libraries using pip (package installer for Python):**\n",
        "\n",
        "*   **langchain-google-genai**: Integrates Langchain with Google's generative AI models.\n",
        "*   **google-generativeai**: Google's official library for interacting with their AI models.\n",
        "*   **chromadb**: A database for storing and searching embeddings (numerical representations of text)\n",
        "*   **langchain-community**: Contains integrations and tools for the Langchain framework."
      ],
      "metadata": {
        "id": "ObfmqrIegSzh"
      }
    },
    {
      "cell_type": "code",
      "source": [
        "!pip install langchain-google-genai google-generativeai\n",
        "!pip install chromadb\n",
        "!pip install langchain-community\n",
        "!pip install --upgrade google-generativeai\n",
        "!pip install google-genai"
      ],
      "metadata": {
        "colab": {
          "base_uri": "https://localhost:8080/"
        },
        "id": "k3gGaAnjSADq",
        "outputId": "b500b004-1588-46f2-d4c2-ea511c7c0e64",
        "collapsed": true
      },
      "execution_count": 1,
      "outputs": [
        {
          "output_type": "stream",
          "name": "stdout",
          "text": [
            "Requirement already satisfied: langchain-google-genai in /usr/local/lib/python3.11/dist-packages (2.0.10)\n",
            "Requirement already satisfied: google-generativeai in /usr/local/lib/python3.11/dist-packages (0.8.4)\n",
            "Requirement already satisfied: filetype<2.0.0,>=1.2.0 in /usr/local/lib/python3.11/dist-packages (from langchain-google-genai) (1.2.0)\n",
            "Requirement already satisfied: langchain-core<0.4.0,>=0.3.37 in /usr/local/lib/python3.11/dist-packages (from langchain-google-genai) (0.3.51)\n",
            "Requirement already satisfied: pydantic<3,>=2 in /usr/local/lib/python3.11/dist-packages (from langchain-google-genai) (2.11.1)\n",
            "Requirement already satisfied: google-ai-generativelanguage==0.6.15 in /usr/local/lib/python3.11/dist-packages (from google-generativeai) (0.6.15)\n",
            "Requirement already satisfied: google-api-core in /usr/local/lib/python3.11/dist-packages (from google-generativeai) (2.24.2)\n",
            "Requirement already satisfied: google-api-python-client in /usr/local/lib/python3.11/dist-packages (from google-generativeai) (2.164.0)\n",
            "Requirement already satisfied: google-auth>=2.15.0 in /usr/local/lib/python3.11/dist-packages (from google-generativeai) (2.38.0)\n",
            "Requirement already satisfied: protobuf in /usr/local/lib/python3.11/dist-packages (from google-generativeai) (5.29.4)\n",
            "Requirement already satisfied: tqdm in /usr/local/lib/python3.11/dist-packages (from google-generativeai) (4.67.1)\n",
            "Requirement already satisfied: typing-extensions in /usr/local/lib/python3.11/dist-packages (from google-generativeai) (4.13.0)\n",
            "Requirement already satisfied: proto-plus<2.0.0dev,>=1.22.3 in /usr/local/lib/python3.11/dist-packages (from google-ai-generativelanguage==0.6.15->google-generativeai) (1.26.1)\n",
            "Requirement already satisfied: googleapis-common-protos<2.0.0,>=1.56.2 in /usr/local/lib/python3.11/dist-packages (from google-api-core->google-generativeai) (1.69.2)\n",
            "Requirement already satisfied: requests<3.0.0,>=2.18.0 in /usr/local/lib/python3.11/dist-packages (from google-api-core->google-generativeai) (2.32.3)\n",
            "Requirement already satisfied: cachetools<6.0,>=2.0.0 in /usr/local/lib/python3.11/dist-packages (from google-auth>=2.15.0->google-generativeai) (5.5.2)\n",
            "Requirement already satisfied: pyasn1-modules>=0.2.1 in /usr/local/lib/python3.11/dist-packages (from google-auth>=2.15.0->google-generativeai) (0.4.2)\n",
            "Requirement already satisfied: rsa<5,>=3.1.4 in /usr/local/lib/python3.11/dist-packages (from google-auth>=2.15.0->google-generativeai) (4.9)\n",
            "Requirement already satisfied: langsmith<0.4,>=0.1.125 in /usr/local/lib/python3.11/dist-packages (from langchain-core<0.4.0,>=0.3.37->langchain-google-genai) (0.3.22)\n",
            "Requirement already satisfied: tenacity!=8.4.0,<10.0.0,>=8.1.0 in /usr/local/lib/python3.11/dist-packages (from langchain-core<0.4.0,>=0.3.37->langchain-google-genai) (9.1.2)\n",
            "Requirement already satisfied: jsonpatch<2.0,>=1.33 in /usr/local/lib/python3.11/dist-packages (from langchain-core<0.4.0,>=0.3.37->langchain-google-genai) (1.33)\n",
            "Requirement already satisfied: PyYAML>=5.3 in /usr/local/lib/python3.11/dist-packages (from langchain-core<0.4.0,>=0.3.37->langchain-google-genai) (6.0.2)\n",
            "Requirement already satisfied: packaging<25,>=23.2 in /usr/local/lib/python3.11/dist-packages (from langchain-core<0.4.0,>=0.3.37->langchain-google-genai) (24.2)\n",
            "Requirement already satisfied: annotated-types>=0.6.0 in /usr/local/lib/python3.11/dist-packages (from pydantic<3,>=2->langchain-google-genai) (0.7.0)\n",
            "Requirement already satisfied: pydantic-core==2.33.0 in /usr/local/lib/python3.11/dist-packages (from pydantic<3,>=2->langchain-google-genai) (2.33.0)\n",
            "Requirement already satisfied: typing-inspection>=0.4.0 in /usr/local/lib/python3.11/dist-packages (from pydantic<3,>=2->langchain-google-genai) (0.4.0)\n",
            "Requirement already satisfied: httplib2<1.dev0,>=0.19.0 in /usr/local/lib/python3.11/dist-packages (from google-api-python-client->google-generativeai) (0.22.0)\n",
            "Requirement already satisfied: google-auth-httplib2<1.0.0,>=0.2.0 in /usr/local/lib/python3.11/dist-packages (from google-api-python-client->google-generativeai) (0.2.0)\n",
            "Requirement already satisfied: uritemplate<5,>=3.0.1 in /usr/local/lib/python3.11/dist-packages (from google-api-python-client->google-generativeai) (4.1.1)\n",
            "Requirement already satisfied: grpcio<2.0dev,>=1.33.2 in /usr/local/lib/python3.11/dist-packages (from google-api-core[grpc]!=2.0.*,!=2.1.*,!=2.10.*,!=2.2.*,!=2.3.*,!=2.4.*,!=2.5.*,!=2.6.*,!=2.7.*,!=2.8.*,!=2.9.*,<3.0.0dev,>=1.34.1->google-ai-generativelanguage==0.6.15->google-generativeai) (1.71.0)\n",
            "Requirement already satisfied: grpcio-status<2.0.dev0,>=1.33.2 in /usr/local/lib/python3.11/dist-packages (from google-api-core[grpc]!=2.0.*,!=2.1.*,!=2.10.*,!=2.2.*,!=2.3.*,!=2.4.*,!=2.5.*,!=2.6.*,!=2.7.*,!=2.8.*,!=2.9.*,<3.0.0dev,>=1.34.1->google-ai-generativelanguage==0.6.15->google-generativeai) (1.71.0)\n",
            "Requirement already satisfied: pyparsing!=3.0.0,!=3.0.1,!=3.0.2,!=3.0.3,<4,>=2.4.2 in /usr/local/lib/python3.11/dist-packages (from httplib2<1.dev0,>=0.19.0->google-api-python-client->google-generativeai) (3.2.3)\n",
            "Requirement already satisfied: jsonpointer>=1.9 in /usr/local/lib/python3.11/dist-packages (from jsonpatch<2.0,>=1.33->langchain-core<0.4.0,>=0.3.37->langchain-google-genai) (3.0.0)\n",
            "Requirement already satisfied: httpx<1,>=0.23.0 in /usr/local/lib/python3.11/dist-packages (from langsmith<0.4,>=0.1.125->langchain-core<0.4.0,>=0.3.37->langchain-google-genai) (0.28.1)\n",
            "Requirement already satisfied: orjson<4.0.0,>=3.9.14 in /usr/local/lib/python3.11/dist-packages (from langsmith<0.4,>=0.1.125->langchain-core<0.4.0,>=0.3.37->langchain-google-genai) (3.10.16)\n",
            "Requirement already satisfied: requests-toolbelt<2.0.0,>=1.0.0 in /usr/local/lib/python3.11/dist-packages (from langsmith<0.4,>=0.1.125->langchain-core<0.4.0,>=0.3.37->langchain-google-genai) (1.0.0)\n",
            "Requirement already satisfied: zstandard<0.24.0,>=0.23.0 in /usr/local/lib/python3.11/dist-packages (from langsmith<0.4,>=0.1.125->langchain-core<0.4.0,>=0.3.37->langchain-google-genai) (0.23.0)\n",
            "Requirement already satisfied: pyasn1<0.7.0,>=0.6.1 in /usr/local/lib/python3.11/dist-packages (from pyasn1-modules>=0.2.1->google-auth>=2.15.0->google-generativeai) (0.6.1)\n",
            "Requirement already satisfied: charset-normalizer<4,>=2 in /usr/local/lib/python3.11/dist-packages (from requests<3.0.0,>=2.18.0->google-api-core->google-generativeai) (3.4.1)\n",
            "Requirement already satisfied: idna<4,>=2.5 in /usr/local/lib/python3.11/dist-packages (from requests<3.0.0,>=2.18.0->google-api-core->google-generativeai) (3.10)\n",
            "Requirement already satisfied: urllib3<3,>=1.21.1 in /usr/local/lib/python3.11/dist-packages (from requests<3.0.0,>=2.18.0->google-api-core->google-generativeai) (2.3.0)\n",
            "Requirement already satisfied: certifi>=2017.4.17 in /usr/local/lib/python3.11/dist-packages (from requests<3.0.0,>=2.18.0->google-api-core->google-generativeai) (2025.1.31)\n",
            "Requirement already satisfied: anyio in /usr/local/lib/python3.11/dist-packages (from httpx<1,>=0.23.0->langsmith<0.4,>=0.1.125->langchain-core<0.4.0,>=0.3.37->langchain-google-genai) (4.9.0)\n",
            "Requirement already satisfied: httpcore==1.* in /usr/local/lib/python3.11/dist-packages (from httpx<1,>=0.23.0->langsmith<0.4,>=0.1.125->langchain-core<0.4.0,>=0.3.37->langchain-google-genai) (1.0.7)\n",
            "Requirement already satisfied: h11<0.15,>=0.13 in /usr/local/lib/python3.11/dist-packages (from httpcore==1.*->httpx<1,>=0.23.0->langsmith<0.4,>=0.1.125->langchain-core<0.4.0,>=0.3.37->langchain-google-genai) (0.14.0)\n",
            "Requirement already satisfied: sniffio>=1.1 in /usr/local/lib/python3.11/dist-packages (from anyio->httpx<1,>=0.23.0->langsmith<0.4,>=0.1.125->langchain-core<0.4.0,>=0.3.37->langchain-google-genai) (1.3.1)\n",
            "Requirement already satisfied: chromadb in /usr/local/lib/python3.11/dist-packages (1.0.0)\n",
            "Requirement already satisfied: build>=1.0.3 in /usr/local/lib/python3.11/dist-packages (from chromadb) (1.2.2.post1)\n",
            "Requirement already satisfied: pydantic>=1.9 in /usr/local/lib/python3.11/dist-packages (from chromadb) (2.11.1)\n",
            "Requirement already satisfied: chroma-hnswlib==0.7.6 in /usr/local/lib/python3.11/dist-packages (from chromadb) (0.7.6)\n",
            "Requirement already satisfied: fastapi==0.115.9 in /usr/local/lib/python3.11/dist-packages (from chromadb) (0.115.9)\n",
            "Requirement already satisfied: uvicorn>=0.18.3 in /usr/local/lib/python3.11/dist-packages (from uvicorn[standard]>=0.18.3->chromadb) (0.34.0)\n",
            "Requirement already satisfied: numpy>=1.22.5 in /usr/local/lib/python3.11/dist-packages (from chromadb) (2.0.2)\n",
            "Requirement already satisfied: posthog>=2.4.0 in /usr/local/lib/python3.11/dist-packages (from chromadb) (3.23.0)\n",
            "Requirement already satisfied: typing-extensions>=4.5.0 in /usr/local/lib/python3.11/dist-packages (from chromadb) (4.13.0)\n",
            "Requirement already satisfied: onnxruntime>=1.14.1 in /usr/local/lib/python3.11/dist-packages (from chromadb) (1.21.0)\n",
            "Requirement already satisfied: opentelemetry-api>=1.2.0 in /usr/local/lib/python3.11/dist-packages (from chromadb) (1.31.1)\n",
            "Requirement already satisfied: opentelemetry-exporter-otlp-proto-grpc>=1.2.0 in /usr/local/lib/python3.11/dist-packages (from chromadb) (1.31.1)\n",
            "Requirement already satisfied: opentelemetry-instrumentation-fastapi>=0.41b0 in /usr/local/lib/python3.11/dist-packages (from chromadb) (0.52b1)\n",
            "Requirement already satisfied: opentelemetry-sdk>=1.2.0 in /usr/local/lib/python3.11/dist-packages (from chromadb) (1.31.1)\n",
            "Requirement already satisfied: tokenizers>=0.13.2 in /usr/local/lib/python3.11/dist-packages (from chromadb) (0.21.1)\n",
            "Requirement already satisfied: pypika>=0.48.9 in /usr/local/lib/python3.11/dist-packages (from chromadb) (0.48.9)\n",
            "Requirement already satisfied: tqdm>=4.65.0 in /usr/local/lib/python3.11/dist-packages (from chromadb) (4.67.1)\n",
            "Requirement already satisfied: overrides>=7.3.1 in /usr/local/lib/python3.11/dist-packages (from chromadb) (7.7.0)\n",
            "Requirement already satisfied: importlib-resources in /usr/local/lib/python3.11/dist-packages (from chromadb) (6.5.2)\n",
            "Requirement already satisfied: grpcio>=1.58.0 in /usr/local/lib/python3.11/dist-packages (from chromadb) (1.71.0)\n",
            "Requirement already satisfied: bcrypt>=4.0.1 in /usr/local/lib/python3.11/dist-packages (from chromadb) (4.3.0)\n",
            "Requirement already satisfied: typer>=0.9.0 in /usr/local/lib/python3.11/dist-packages (from chromadb) (0.15.2)\n",
            "Requirement already satisfied: kubernetes>=28.1.0 in /usr/local/lib/python3.11/dist-packages (from chromadb) (32.0.1)\n",
            "Requirement already satisfied: tenacity>=8.2.3 in /usr/local/lib/python3.11/dist-packages (from chromadb) (9.1.2)\n",
            "Requirement already satisfied: pyyaml>=6.0.0 in /usr/local/lib/python3.11/dist-packages (from chromadb) (6.0.2)\n",
            "Requirement already satisfied: mmh3>=4.0.1 in /usr/local/lib/python3.11/dist-packages (from chromadb) (5.1.0)\n",
            "Requirement already satisfied: orjson>=3.9.12 in /usr/local/lib/python3.11/dist-packages (from chromadb) (3.10.16)\n",
            "Requirement already satisfied: httpx>=0.27.0 in /usr/local/lib/python3.11/dist-packages (from chromadb) (0.28.1)\n",
            "Requirement already satisfied: rich>=10.11.0 in /usr/local/lib/python3.11/dist-packages (from chromadb) (13.9.4)\n",
            "Requirement already satisfied: jsonschema>=4.19.0 in /usr/local/lib/python3.11/dist-packages (from chromadb) (4.23.0)\n",
            "Requirement already satisfied: starlette<0.46.0,>=0.40.0 in /usr/local/lib/python3.11/dist-packages (from fastapi==0.115.9->chromadb) (0.45.3)\n",
            "Requirement already satisfied: packaging>=19.1 in /usr/local/lib/python3.11/dist-packages (from build>=1.0.3->chromadb) (24.2)\n",
            "Requirement already satisfied: pyproject_hooks in /usr/local/lib/python3.11/dist-packages (from build>=1.0.3->chromadb) (1.2.0)\n",
            "Requirement already satisfied: anyio in /usr/local/lib/python3.11/dist-packages (from httpx>=0.27.0->chromadb) (4.9.0)\n",
            "Requirement already satisfied: certifi in /usr/local/lib/python3.11/dist-packages (from httpx>=0.27.0->chromadb) (2025.1.31)\n",
            "Requirement already satisfied: httpcore==1.* in /usr/local/lib/python3.11/dist-packages (from httpx>=0.27.0->chromadb) (1.0.7)\n",
            "Requirement already satisfied: idna in /usr/local/lib/python3.11/dist-packages (from httpx>=0.27.0->chromadb) (3.10)\n",
            "Requirement already satisfied: h11<0.15,>=0.13 in /usr/local/lib/python3.11/dist-packages (from httpcore==1.*->httpx>=0.27.0->chromadb) (0.14.0)\n",
            "Requirement already satisfied: attrs>=22.2.0 in /usr/local/lib/python3.11/dist-packages (from jsonschema>=4.19.0->chromadb) (25.3.0)\n",
            "Requirement already satisfied: jsonschema-specifications>=2023.03.6 in /usr/local/lib/python3.11/dist-packages (from jsonschema>=4.19.0->chromadb) (2024.10.1)\n",
            "Requirement already satisfied: referencing>=0.28.4 in /usr/local/lib/python3.11/dist-packages (from jsonschema>=4.19.0->chromadb) (0.36.2)\n",
            "Requirement already satisfied: rpds-py>=0.7.1 in /usr/local/lib/python3.11/dist-packages (from jsonschema>=4.19.0->chromadb) (0.24.0)\n",
            "Requirement already satisfied: six>=1.9.0 in /usr/local/lib/python3.11/dist-packages (from kubernetes>=28.1.0->chromadb) (1.17.0)\n",
            "Requirement already satisfied: python-dateutil>=2.5.3 in /usr/local/lib/python3.11/dist-packages (from kubernetes>=28.1.0->chromadb) (2.8.2)\n",
            "Requirement already satisfied: google-auth>=1.0.1 in /usr/local/lib/python3.11/dist-packages (from kubernetes>=28.1.0->chromadb) (2.38.0)\n",
            "Requirement already satisfied: websocket-client!=0.40.0,!=0.41.*,!=0.42.*,>=0.32.0 in /usr/local/lib/python3.11/dist-packages (from kubernetes>=28.1.0->chromadb) (1.8.0)\n",
            "Requirement already satisfied: requests in /usr/local/lib/python3.11/dist-packages (from kubernetes>=28.1.0->chromadb) (2.32.3)\n",
            "Requirement already satisfied: requests-oauthlib in /usr/local/lib/python3.11/dist-packages (from kubernetes>=28.1.0->chromadb) (2.0.0)\n",
            "Requirement already satisfied: oauthlib>=3.2.2 in /usr/local/lib/python3.11/dist-packages (from kubernetes>=28.1.0->chromadb) (3.2.2)\n",
            "Requirement already satisfied: urllib3>=1.24.2 in /usr/local/lib/python3.11/dist-packages (from kubernetes>=28.1.0->chromadb) (2.3.0)\n",
            "Requirement already satisfied: durationpy>=0.7 in /usr/local/lib/python3.11/dist-packages (from kubernetes>=28.1.0->chromadb) (0.9)\n",
            "Requirement already satisfied: coloredlogs in /usr/local/lib/python3.11/dist-packages (from onnxruntime>=1.14.1->chromadb) (15.0.1)\n",
            "Requirement already satisfied: flatbuffers in /usr/local/lib/python3.11/dist-packages (from onnxruntime>=1.14.1->chromadb) (25.2.10)\n",
            "Requirement already satisfied: protobuf in /usr/local/lib/python3.11/dist-packages (from onnxruntime>=1.14.1->chromadb) (5.29.4)\n",
            "Requirement already satisfied: sympy in /usr/local/lib/python3.11/dist-packages (from onnxruntime>=1.14.1->chromadb) (1.13.1)\n",
            "Requirement already satisfied: deprecated>=1.2.6 in /usr/local/lib/python3.11/dist-packages (from opentelemetry-api>=1.2.0->chromadb) (1.2.18)\n",
            "Requirement already satisfied: importlib-metadata<8.7.0,>=6.0 in /usr/local/lib/python3.11/dist-packages (from opentelemetry-api>=1.2.0->chromadb) (8.6.1)\n",
            "Requirement already satisfied: googleapis-common-protos~=1.52 in /usr/local/lib/python3.11/dist-packages (from opentelemetry-exporter-otlp-proto-grpc>=1.2.0->chromadb) (1.69.2)\n",
            "Requirement already satisfied: opentelemetry-exporter-otlp-proto-common==1.31.1 in /usr/local/lib/python3.11/dist-packages (from opentelemetry-exporter-otlp-proto-grpc>=1.2.0->chromadb) (1.31.1)\n",
            "Requirement already satisfied: opentelemetry-proto==1.31.1 in /usr/local/lib/python3.11/dist-packages (from opentelemetry-exporter-otlp-proto-grpc>=1.2.0->chromadb) (1.31.1)\n",
            "Requirement already satisfied: opentelemetry-instrumentation-asgi==0.52b1 in /usr/local/lib/python3.11/dist-packages (from opentelemetry-instrumentation-fastapi>=0.41b0->chromadb) (0.52b1)\n",
            "Requirement already satisfied: opentelemetry-instrumentation==0.52b1 in /usr/local/lib/python3.11/dist-packages (from opentelemetry-instrumentation-fastapi>=0.41b0->chromadb) (0.52b1)\n",
            "Requirement already satisfied: opentelemetry-semantic-conventions==0.52b1 in /usr/local/lib/python3.11/dist-packages (from opentelemetry-instrumentation-fastapi>=0.41b0->chromadb) (0.52b1)\n",
            "Requirement already satisfied: opentelemetry-util-http==0.52b1 in /usr/local/lib/python3.11/dist-packages (from opentelemetry-instrumentation-fastapi>=0.41b0->chromadb) (0.52b1)\n",
            "Requirement already satisfied: wrapt<2.0.0,>=1.0.0 in /usr/local/lib/python3.11/dist-packages (from opentelemetry-instrumentation==0.52b1->opentelemetry-instrumentation-fastapi>=0.41b0->chromadb) (1.17.2)\n",
            "Requirement already satisfied: asgiref~=3.0 in /usr/local/lib/python3.11/dist-packages (from opentelemetry-instrumentation-asgi==0.52b1->opentelemetry-instrumentation-fastapi>=0.41b0->chromadb) (3.8.1)\n",
            "Requirement already satisfied: monotonic>=1.5 in /usr/local/lib/python3.11/dist-packages (from posthog>=2.4.0->chromadb) (1.6)\n",
            "Requirement already satisfied: backoff>=1.10.0 in /usr/local/lib/python3.11/dist-packages (from posthog>=2.4.0->chromadb) (2.2.1)\n",
            "Requirement already satisfied: distro>=1.5.0 in /usr/local/lib/python3.11/dist-packages (from posthog>=2.4.0->chromadb) (1.9.0)\n",
            "Requirement already satisfied: annotated-types>=0.6.0 in /usr/local/lib/python3.11/dist-packages (from pydantic>=1.9->chromadb) (0.7.0)\n",
            "Requirement already satisfied: pydantic-core==2.33.0 in /usr/local/lib/python3.11/dist-packages (from pydantic>=1.9->chromadb) (2.33.0)\n",
            "Requirement already satisfied: typing-inspection>=0.4.0 in /usr/local/lib/python3.11/dist-packages (from pydantic>=1.9->chromadb) (0.4.0)\n",
            "Requirement already satisfied: markdown-it-py>=2.2.0 in /usr/local/lib/python3.11/dist-packages (from rich>=10.11.0->chromadb) (3.0.0)\n",
            "Requirement already satisfied: pygments<3.0.0,>=2.13.0 in /usr/local/lib/python3.11/dist-packages (from rich>=10.11.0->chromadb) (2.18.0)\n",
            "Requirement already satisfied: huggingface-hub<1.0,>=0.16.4 in /usr/local/lib/python3.11/dist-packages (from tokenizers>=0.13.2->chromadb) (0.30.1)\n",
            "Requirement already satisfied: click>=8.0.0 in /usr/local/lib/python3.11/dist-packages (from typer>=0.9.0->chromadb) (8.1.8)\n",
            "Requirement already satisfied: shellingham>=1.3.0 in /usr/local/lib/python3.11/dist-packages (from typer>=0.9.0->chromadb) (1.5.4)\n",
            "Requirement already satisfied: httptools>=0.6.3 in /usr/local/lib/python3.11/dist-packages (from uvicorn[standard]>=0.18.3->chromadb) (0.6.4)\n",
            "Requirement already satisfied: python-dotenv>=0.13 in /usr/local/lib/python3.11/dist-packages (from uvicorn[standard]>=0.18.3->chromadb) (1.1.0)\n",
            "Requirement already satisfied: uvloop!=0.15.0,!=0.15.1,>=0.14.0 in /usr/local/lib/python3.11/dist-packages (from uvicorn[standard]>=0.18.3->chromadb) (0.21.0)\n",
            "Requirement already satisfied: watchfiles>=0.13 in /usr/local/lib/python3.11/dist-packages (from uvicorn[standard]>=0.18.3->chromadb) (1.0.4)\n",
            "Requirement already satisfied: websockets>=10.4 in /usr/local/lib/python3.11/dist-packages (from uvicorn[standard]>=0.18.3->chromadb) (15.0.1)\n",
            "Requirement already satisfied: cachetools<6.0,>=2.0.0 in /usr/local/lib/python3.11/dist-packages (from google-auth>=1.0.1->kubernetes>=28.1.0->chromadb) (5.5.2)\n",
            "Requirement already satisfied: pyasn1-modules>=0.2.1 in /usr/local/lib/python3.11/dist-packages (from google-auth>=1.0.1->kubernetes>=28.1.0->chromadb) (0.4.2)\n",
            "Requirement already satisfied: rsa<5,>=3.1.4 in /usr/local/lib/python3.11/dist-packages (from google-auth>=1.0.1->kubernetes>=28.1.0->chromadb) (4.9)\n",
            "Requirement already satisfied: filelock in /usr/local/lib/python3.11/dist-packages (from huggingface-hub<1.0,>=0.16.4->tokenizers>=0.13.2->chromadb) (3.18.0)\n",
            "Requirement already satisfied: fsspec>=2023.5.0 in /usr/local/lib/python3.11/dist-packages (from huggingface-hub<1.0,>=0.16.4->tokenizers>=0.13.2->chromadb) (2025.3.2)\n",
            "Requirement already satisfied: zipp>=3.20 in /usr/local/lib/python3.11/dist-packages (from importlib-metadata<8.7.0,>=6.0->opentelemetry-api>=1.2.0->chromadb) (3.21.0)\n",
            "Requirement already satisfied: mdurl~=0.1 in /usr/local/lib/python3.11/dist-packages (from markdown-it-py>=2.2.0->rich>=10.11.0->chromadb) (0.1.2)\n",
            "Requirement already satisfied: charset-normalizer<4,>=2 in /usr/local/lib/python3.11/dist-packages (from requests->kubernetes>=28.1.0->chromadb) (3.4.1)\n",
            "Requirement already satisfied: sniffio>=1.1 in /usr/local/lib/python3.11/dist-packages (from anyio->httpx>=0.27.0->chromadb) (1.3.1)\n",
            "Requirement already satisfied: humanfriendly>=9.1 in /usr/local/lib/python3.11/dist-packages (from coloredlogs->onnxruntime>=1.14.1->chromadb) (10.0)\n",
            "Requirement already satisfied: mpmath<1.4,>=1.1.0 in /usr/local/lib/python3.11/dist-packages (from sympy->onnxruntime>=1.14.1->chromadb) (1.3.0)\n",
            "Requirement already satisfied: pyasn1<0.7.0,>=0.6.1 in /usr/local/lib/python3.11/dist-packages (from pyasn1-modules>=0.2.1->google-auth>=1.0.1->kubernetes>=28.1.0->chromadb) (0.6.1)\n",
            "Requirement already satisfied: langchain-community in /usr/local/lib/python3.11/dist-packages (0.3.21)\n",
            "Requirement already satisfied: langchain-core<1.0.0,>=0.3.51 in /usr/local/lib/python3.11/dist-packages (from langchain-community) (0.3.51)\n",
            "Requirement already satisfied: langchain<1.0.0,>=0.3.23 in /usr/local/lib/python3.11/dist-packages (from langchain-community) (0.3.23)\n",
            "Requirement already satisfied: SQLAlchemy<3,>=1.4 in /usr/local/lib/python3.11/dist-packages (from langchain-community) (2.0.40)\n",
            "Requirement already satisfied: requests<3,>=2 in /usr/local/lib/python3.11/dist-packages (from langchain-community) (2.32.3)\n",
            "Requirement already satisfied: PyYAML>=5.3 in /usr/local/lib/python3.11/dist-packages (from langchain-community) (6.0.2)\n",
            "Requirement already satisfied: aiohttp<4.0.0,>=3.8.3 in /usr/local/lib/python3.11/dist-packages (from langchain-community) (3.11.15)\n",
            "Requirement already satisfied: tenacity!=8.4.0,<10,>=8.1.0 in /usr/local/lib/python3.11/dist-packages (from langchain-community) (9.1.2)\n",
            "Requirement already satisfied: dataclasses-json<0.7,>=0.5.7 in /usr/local/lib/python3.11/dist-packages (from langchain-community) (0.6.7)\n",
            "Requirement already satisfied: pydantic-settings<3.0.0,>=2.4.0 in /usr/local/lib/python3.11/dist-packages (from langchain-community) (2.8.1)\n",
            "Requirement already satisfied: langsmith<0.4,>=0.1.125 in /usr/local/lib/python3.11/dist-packages (from langchain-community) (0.3.22)\n",
            "Requirement already satisfied: httpx-sse<1.0.0,>=0.4.0 in /usr/local/lib/python3.11/dist-packages (from langchain-community) (0.4.0)\n",
            "Requirement already satisfied: numpy<3,>=1.26.2 in /usr/local/lib/python3.11/dist-packages (from langchain-community) (2.0.2)\n",
            "Requirement already satisfied: aiohappyeyeballs>=2.3.0 in /usr/local/lib/python3.11/dist-packages (from aiohttp<4.0.0,>=3.8.3->langchain-community) (2.6.1)\n",
            "Requirement already satisfied: aiosignal>=1.1.2 in /usr/local/lib/python3.11/dist-packages (from aiohttp<4.0.0,>=3.8.3->langchain-community) (1.3.2)\n",
            "Requirement already satisfied: attrs>=17.3.0 in /usr/local/lib/python3.11/dist-packages (from aiohttp<4.0.0,>=3.8.3->langchain-community) (25.3.0)\n",
            "Requirement already satisfied: frozenlist>=1.1.1 in /usr/local/lib/python3.11/dist-packages (from aiohttp<4.0.0,>=3.8.3->langchain-community) (1.5.0)\n",
            "Requirement already satisfied: multidict<7.0,>=4.5 in /usr/local/lib/python3.11/dist-packages (from aiohttp<4.0.0,>=3.8.3->langchain-community) (6.3.1)\n",
            "Requirement already satisfied: propcache>=0.2.0 in /usr/local/lib/python3.11/dist-packages (from aiohttp<4.0.0,>=3.8.3->langchain-community) (0.3.1)\n",
            "Requirement already satisfied: yarl<2.0,>=1.17.0 in /usr/local/lib/python3.11/dist-packages (from aiohttp<4.0.0,>=3.8.3->langchain-community) (1.18.3)\n",
            "Requirement already satisfied: marshmallow<4.0.0,>=3.18.0 in /usr/local/lib/python3.11/dist-packages (from dataclasses-json<0.7,>=0.5.7->langchain-community) (3.26.1)\n",
            "Requirement already satisfied: typing-inspect<1,>=0.4.0 in /usr/local/lib/python3.11/dist-packages (from dataclasses-json<0.7,>=0.5.7->langchain-community) (0.9.0)\n",
            "Requirement already satisfied: langchain-text-splitters<1.0.0,>=0.3.8 in /usr/local/lib/python3.11/dist-packages (from langchain<1.0.0,>=0.3.23->langchain-community) (0.3.8)\n",
            "Requirement already satisfied: pydantic<3.0.0,>=2.7.4 in /usr/local/lib/python3.11/dist-packages (from langchain<1.0.0,>=0.3.23->langchain-community) (2.11.1)\n",
            "Requirement already satisfied: jsonpatch<2.0,>=1.33 in /usr/local/lib/python3.11/dist-packages (from langchain-core<1.0.0,>=0.3.51->langchain-community) (1.33)\n",
            "Requirement already satisfied: packaging<25,>=23.2 in /usr/local/lib/python3.11/dist-packages (from langchain-core<1.0.0,>=0.3.51->langchain-community) (24.2)\n",
            "Requirement already satisfied: typing-extensions>=4.7 in /usr/local/lib/python3.11/dist-packages (from langchain-core<1.0.0,>=0.3.51->langchain-community) (4.13.0)\n",
            "Requirement already satisfied: httpx<1,>=0.23.0 in /usr/local/lib/python3.11/dist-packages (from langsmith<0.4,>=0.1.125->langchain-community) (0.28.1)\n",
            "Requirement already satisfied: orjson<4.0.0,>=3.9.14 in /usr/local/lib/python3.11/dist-packages (from langsmith<0.4,>=0.1.125->langchain-community) (3.10.16)\n",
            "Requirement already satisfied: requests-toolbelt<2.0.0,>=1.0.0 in /usr/local/lib/python3.11/dist-packages (from langsmith<0.4,>=0.1.125->langchain-community) (1.0.0)\n",
            "Requirement already satisfied: zstandard<0.24.0,>=0.23.0 in /usr/local/lib/python3.11/dist-packages (from langsmith<0.4,>=0.1.125->langchain-community) (0.23.0)\n",
            "Requirement already satisfied: python-dotenv>=0.21.0 in /usr/local/lib/python3.11/dist-packages (from pydantic-settings<3.0.0,>=2.4.0->langchain-community) (1.1.0)\n",
            "Requirement already satisfied: charset-normalizer<4,>=2 in /usr/local/lib/python3.11/dist-packages (from requests<3,>=2->langchain-community) (3.4.1)\n",
            "Requirement already satisfied: idna<4,>=2.5 in /usr/local/lib/python3.11/dist-packages (from requests<3,>=2->langchain-community) (3.10)\n",
            "Requirement already satisfied: urllib3<3,>=1.21.1 in /usr/local/lib/python3.11/dist-packages (from requests<3,>=2->langchain-community) (2.3.0)\n",
            "Requirement already satisfied: certifi>=2017.4.17 in /usr/local/lib/python3.11/dist-packages (from requests<3,>=2->langchain-community) (2025.1.31)\n",
            "Requirement already satisfied: greenlet>=1 in /usr/local/lib/python3.11/dist-packages (from SQLAlchemy<3,>=1.4->langchain-community) (3.1.1)\n",
            "Requirement already satisfied: anyio in /usr/local/lib/python3.11/dist-packages (from httpx<1,>=0.23.0->langsmith<0.4,>=0.1.125->langchain-community) (4.9.0)\n",
            "Requirement already satisfied: httpcore==1.* in /usr/local/lib/python3.11/dist-packages (from httpx<1,>=0.23.0->langsmith<0.4,>=0.1.125->langchain-community) (1.0.7)\n",
            "Requirement already satisfied: h11<0.15,>=0.13 in /usr/local/lib/python3.11/dist-packages (from httpcore==1.*->httpx<1,>=0.23.0->langsmith<0.4,>=0.1.125->langchain-community) (0.14.0)\n",
            "Requirement already satisfied: jsonpointer>=1.9 in /usr/local/lib/python3.11/dist-packages (from jsonpatch<2.0,>=1.33->langchain-core<1.0.0,>=0.3.51->langchain-community) (3.0.0)\n",
            "Requirement already satisfied: annotated-types>=0.6.0 in /usr/local/lib/python3.11/dist-packages (from pydantic<3.0.0,>=2.7.4->langchain<1.0.0,>=0.3.23->langchain-community) (0.7.0)\n",
            "Requirement already satisfied: pydantic-core==2.33.0 in /usr/local/lib/python3.11/dist-packages (from pydantic<3.0.0,>=2.7.4->langchain<1.0.0,>=0.3.23->langchain-community) (2.33.0)\n",
            "Requirement already satisfied: typing-inspection>=0.4.0 in /usr/local/lib/python3.11/dist-packages (from pydantic<3.0.0,>=2.7.4->langchain<1.0.0,>=0.3.23->langchain-community) (0.4.0)\n",
            "Requirement already satisfied: mypy-extensions>=0.3.0 in /usr/local/lib/python3.11/dist-packages (from typing-inspect<1,>=0.4.0->dataclasses-json<0.7,>=0.5.7->langchain-community) (1.0.0)\n",
            "Requirement already satisfied: sniffio>=1.1 in /usr/local/lib/python3.11/dist-packages (from anyio->httpx<1,>=0.23.0->langsmith<0.4,>=0.1.125->langchain-community) (1.3.1)\n",
            "Requirement already satisfied: google-generativeai in /usr/local/lib/python3.11/dist-packages (0.8.4)\n",
            "Requirement already satisfied: google-ai-generativelanguage==0.6.15 in /usr/local/lib/python3.11/dist-packages (from google-generativeai) (0.6.15)\n",
            "Requirement already satisfied: google-api-core in /usr/local/lib/python3.11/dist-packages (from google-generativeai) (2.24.2)\n",
            "Requirement already satisfied: google-api-python-client in /usr/local/lib/python3.11/dist-packages (from google-generativeai) (2.164.0)\n",
            "Requirement already satisfied: google-auth>=2.15.0 in /usr/local/lib/python3.11/dist-packages (from google-generativeai) (2.38.0)\n",
            "Requirement already satisfied: protobuf in /usr/local/lib/python3.11/dist-packages (from google-generativeai) (5.29.4)\n",
            "Requirement already satisfied: pydantic in /usr/local/lib/python3.11/dist-packages (from google-generativeai) (2.11.1)\n",
            "Requirement already satisfied: tqdm in /usr/local/lib/python3.11/dist-packages (from google-generativeai) (4.67.1)\n",
            "Requirement already satisfied: typing-extensions in /usr/local/lib/python3.11/dist-packages (from google-generativeai) (4.13.0)\n",
            "Requirement already satisfied: proto-plus<2.0.0dev,>=1.22.3 in /usr/local/lib/python3.11/dist-packages (from google-ai-generativelanguage==0.6.15->google-generativeai) (1.26.1)\n",
            "Requirement already satisfied: googleapis-common-protos<2.0.0,>=1.56.2 in /usr/local/lib/python3.11/dist-packages (from google-api-core->google-generativeai) (1.69.2)\n",
            "Requirement already satisfied: requests<3.0.0,>=2.18.0 in /usr/local/lib/python3.11/dist-packages (from google-api-core->google-generativeai) (2.32.3)\n",
            "Requirement already satisfied: cachetools<6.0,>=2.0.0 in /usr/local/lib/python3.11/dist-packages (from google-auth>=2.15.0->google-generativeai) (5.5.2)\n",
            "Requirement already satisfied: pyasn1-modules>=0.2.1 in /usr/local/lib/python3.11/dist-packages (from google-auth>=2.15.0->google-generativeai) (0.4.2)\n",
            "Requirement already satisfied: rsa<5,>=3.1.4 in /usr/local/lib/python3.11/dist-packages (from google-auth>=2.15.0->google-generativeai) (4.9)\n",
            "Requirement already satisfied: httplib2<1.dev0,>=0.19.0 in /usr/local/lib/python3.11/dist-packages (from google-api-python-client->google-generativeai) (0.22.0)\n",
            "Requirement already satisfied: google-auth-httplib2<1.0.0,>=0.2.0 in /usr/local/lib/python3.11/dist-packages (from google-api-python-client->google-generativeai) (0.2.0)\n",
            "Requirement already satisfied: uritemplate<5,>=3.0.1 in /usr/local/lib/python3.11/dist-packages (from google-api-python-client->google-generativeai) (4.1.1)\n",
            "Requirement already satisfied: annotated-types>=0.6.0 in /usr/local/lib/python3.11/dist-packages (from pydantic->google-generativeai) (0.7.0)\n",
            "Requirement already satisfied: pydantic-core==2.33.0 in /usr/local/lib/python3.11/dist-packages (from pydantic->google-generativeai) (2.33.0)\n",
            "Requirement already satisfied: typing-inspection>=0.4.0 in /usr/local/lib/python3.11/dist-packages (from pydantic->google-generativeai) (0.4.0)\n",
            "Requirement already satisfied: grpcio<2.0dev,>=1.33.2 in /usr/local/lib/python3.11/dist-packages (from google-api-core[grpc]!=2.0.*,!=2.1.*,!=2.10.*,!=2.2.*,!=2.3.*,!=2.4.*,!=2.5.*,!=2.6.*,!=2.7.*,!=2.8.*,!=2.9.*,<3.0.0dev,>=1.34.1->google-ai-generativelanguage==0.6.15->google-generativeai) (1.71.0)\n",
            "Requirement already satisfied: grpcio-status<2.0.dev0,>=1.33.2 in /usr/local/lib/python3.11/dist-packages (from google-api-core[grpc]!=2.0.*,!=2.1.*,!=2.10.*,!=2.2.*,!=2.3.*,!=2.4.*,!=2.5.*,!=2.6.*,!=2.7.*,!=2.8.*,!=2.9.*,<3.0.0dev,>=1.34.1->google-ai-generativelanguage==0.6.15->google-generativeai) (1.71.0)\n",
            "Requirement already satisfied: pyparsing!=3.0.0,!=3.0.1,!=3.0.2,!=3.0.3,<4,>=2.4.2 in /usr/local/lib/python3.11/dist-packages (from httplib2<1.dev0,>=0.19.0->google-api-python-client->google-generativeai) (3.2.3)\n",
            "Requirement already satisfied: pyasn1<0.7.0,>=0.6.1 in /usr/local/lib/python3.11/dist-packages (from pyasn1-modules>=0.2.1->google-auth>=2.15.0->google-generativeai) (0.6.1)\n",
            "Requirement already satisfied: charset-normalizer<4,>=2 in /usr/local/lib/python3.11/dist-packages (from requests<3.0.0,>=2.18.0->google-api-core->google-generativeai) (3.4.1)\n",
            "Requirement already satisfied: idna<4,>=2.5 in /usr/local/lib/python3.11/dist-packages (from requests<3.0.0,>=2.18.0->google-api-core->google-generativeai) (3.10)\n",
            "Requirement already satisfied: urllib3<3,>=1.21.1 in /usr/local/lib/python3.11/dist-packages (from requests<3.0.0,>=2.18.0->google-api-core->google-generativeai) (2.3.0)\n",
            "Requirement already satisfied: certifi>=2017.4.17 in /usr/local/lib/python3.11/dist-packages (from requests<3.0.0,>=2.18.0->google-api-core->google-generativeai) (2025.1.31)\n",
            "Requirement already satisfied: google-genai in /usr/local/lib/python3.11/dist-packages (1.9.0)\n",
            "Requirement already satisfied: anyio<5.0.0,>=4.8.0 in /usr/local/lib/python3.11/dist-packages (from google-genai) (4.9.0)\n",
            "Requirement already satisfied: google-auth<3.0.0,>=2.14.1 in /usr/local/lib/python3.11/dist-packages (from google-genai) (2.38.0)\n",
            "Requirement already satisfied: httpx<1.0.0,>=0.28.1 in /usr/local/lib/python3.11/dist-packages (from google-genai) (0.28.1)\n",
            "Requirement already satisfied: pydantic<3.0.0,>=2.0.0 in /usr/local/lib/python3.11/dist-packages (from google-genai) (2.11.1)\n",
            "Requirement already satisfied: requests<3.0.0,>=2.28.1 in /usr/local/lib/python3.11/dist-packages (from google-genai) (2.32.3)\n",
            "Requirement already satisfied: websockets<15.1.0,>=13.0.0 in /usr/local/lib/python3.11/dist-packages (from google-genai) (15.0.1)\n",
            "Requirement already satisfied: typing-extensions<5.0.0,>=4.11.0 in /usr/local/lib/python3.11/dist-packages (from google-genai) (4.13.0)\n",
            "Requirement already satisfied: idna>=2.8 in /usr/local/lib/python3.11/dist-packages (from anyio<5.0.0,>=4.8.0->google-genai) (3.10)\n",
            "Requirement already satisfied: sniffio>=1.1 in /usr/local/lib/python3.11/dist-packages (from anyio<5.0.0,>=4.8.0->google-genai) (1.3.1)\n",
            "Requirement already satisfied: cachetools<6.0,>=2.0.0 in /usr/local/lib/python3.11/dist-packages (from google-auth<3.0.0,>=2.14.1->google-genai) (5.5.2)\n",
            "Requirement already satisfied: pyasn1-modules>=0.2.1 in /usr/local/lib/python3.11/dist-packages (from google-auth<3.0.0,>=2.14.1->google-genai) (0.4.2)\n",
            "Requirement already satisfied: rsa<5,>=3.1.4 in /usr/local/lib/python3.11/dist-packages (from google-auth<3.0.0,>=2.14.1->google-genai) (4.9)\n",
            "Requirement already satisfied: certifi in /usr/local/lib/python3.11/dist-packages (from httpx<1.0.0,>=0.28.1->google-genai) (2025.1.31)\n",
            "Requirement already satisfied: httpcore==1.* in /usr/local/lib/python3.11/dist-packages (from httpx<1.0.0,>=0.28.1->google-genai) (1.0.7)\n",
            "Requirement already satisfied: h11<0.15,>=0.13 in /usr/local/lib/python3.11/dist-packages (from httpcore==1.*->httpx<1.0.0,>=0.28.1->google-genai) (0.14.0)\n",
            "Requirement already satisfied: annotated-types>=0.6.0 in /usr/local/lib/python3.11/dist-packages (from pydantic<3.0.0,>=2.0.0->google-genai) (0.7.0)\n",
            "Requirement already satisfied: pydantic-core==2.33.0 in /usr/local/lib/python3.11/dist-packages (from pydantic<3.0.0,>=2.0.0->google-genai) (2.33.0)\n",
            "Requirement already satisfied: typing-inspection>=0.4.0 in /usr/local/lib/python3.11/dist-packages (from pydantic<3.0.0,>=2.0.0->google-genai) (0.4.0)\n",
            "Requirement already satisfied: charset-normalizer<4,>=2 in /usr/local/lib/python3.11/dist-packages (from requests<3.0.0,>=2.28.1->google-genai) (3.4.1)\n",
            "Requirement already satisfied: urllib3<3,>=1.21.1 in /usr/local/lib/python3.11/dist-packages (from requests<3.0.0,>=2.28.1->google-genai) (2.3.0)\n",
            "Requirement already satisfied: pyasn1<0.7.0,>=0.6.1 in /usr/local/lib/python3.11/dist-packages (from pyasn1-modules>=0.2.1->google-auth<3.0.0,>=2.14.1->google-genai) (0.6.1)\n"
          ]
        }
      ]
    },
    {
      "cell_type": "markdown",
      "source": [
        "Import necessary modules and classes"
      ],
      "metadata": {
        "id": "lv1PYeADhGXM"
      }
    },
    {
      "cell_type": "code",
      "source": [
        "# For loading text documents\n",
        "from langchain.document_loaders import TextLoader\n",
        "\n",
        "# For interacting with Google Colab features\n",
        "from google.colab import userdata\n",
        "\n",
        "# For interacting with Google's generative AI models\n",
        "from google import genai\n",
        "from google.genai import types\n",
        "\n",
        "# For displaying formatted text (like Markdown) in the output\n",
        "from IPython.display import Markdown"
      ],
      "metadata": {
        "id": "oGADpkzghFWR"
      },
      "execution_count": 2,
      "outputs": []
    },
    {
      "cell_type": "markdown",
      "source": [
        "Create a text file named \"sample_document.txt\" and write some content into it."
      ],
      "metadata": {
        "id": "C0AKN9VZhXDg"
      }
    },
    {
      "cell_type": "code",
      "source": [
        "with open(\"sample_document.txt\", \"w\") as f:\n",
        "  f.write(\n",
        "    \"\"\"The main topic of this document is the importance of incorporating retrieval mechanisms into large language models (LLMs) to improve their accuracy and ability to provide up-to-date information. This technique, known as Retrieval-Augmented Generation (RAG), allows LLMs to access external knowledge sources at the time of answering a question. This helps to mitigate the issue of LLM hallucinations and provides more grounded and reliable responses.\"\"\"\n",
        "  )"
      ],
      "metadata": {
        "id": "jaE8tbJfSMJl"
      },
      "execution_count": 3,
      "outputs": []
    },
    {
      "cell_type": "markdown",
      "source": [
        "Configure Google Generative AI"
      ],
      "metadata": {
        "id": "kAh0DSIlhpeR"
      }
    },
    {
      "cell_type": "code",
      "source": [
        "# Ensure you have stored your API key in Colab under the name 'GOOGLE_API_KEY'.\n",
        "GOOGLE_API_KEY = userdata.get('GOOGLE_API_KEY')\n",
        "\n",
        "# Create a client object to interact with the Google Generative AI models.\n",
        "client = genai.Client(api_key=GOOGLE_API_KEY)"
      ],
      "metadata": {
        "id": "OChVrWc7iBWv"
      },
      "execution_count": 4,
      "outputs": []
    },
    {
      "cell_type": "markdown",
      "source": [
        "List available models and print the names of those that support content embedding. Embedding models can convert text into numerical vectors that capture their meaning."
      ],
      "metadata": {
        "id": "wS5xCCz4iJGz"
      }
    },
    {
      "cell_type": "code",
      "source": [
        "print(\"\\nAvailable embedding models:\")\n",
        "for model in client.models.list():\n",
        "    if \"embedContent\" in model.supported_actions:\n",
        "        print(f\"- {model.name}\")"
      ],
      "metadata": {
        "colab": {
          "base_uri": "https://localhost:8080/"
        },
        "id": "H9P5FSJJiMPU",
        "outputId": "b3e9383a-5afd-4a5a-dccb-ecfd249be2bc"
      },
      "execution_count": 5,
      "outputs": [
        {
          "output_type": "stream",
          "name": "stdout",
          "text": [
            "\n",
            "Available embedding models:\n",
            "- models/embedding-001\n",
            "- models/text-embedding-004\n",
            "- models/gemini-embedding-exp-03-07\n",
            "- models/gemini-embedding-exp\n"
          ]
        }
      ]
    },
    {
      "cell_type": "markdown",
      "source": [
        "![Embedding Models.png](data:image/png;base64,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)"
      ],
      "metadata": {
        "id": "bb_7oRIZpKWL"
      }
    },
    {
      "cell_type": "markdown",
      "source": [
        "Set up ChromaDB for storing and retrieving document embeddings"
      ],
      "metadata": {
        "id": "IR8V3J3miUrh"
      }
    },
    {
      "cell_type": "code",
      "source": [
        "# Import necessary classes from the chromadb library.\n",
        "from chromadb import Documents, EmbeddingFunction, Embeddings, Client as ChromaClient\n",
        "\n",
        "# Import the retry utility from Google API core for handling potential API rate limits.\n",
        "from google.api_core import retry"
      ],
      "metadata": {
        "id": "bpLjho56iTtp"
      },
      "execution_count": 6,
      "outputs": []
    },
    {
      "cell_type": "markdown",
      "source": [
        "Define a helper function to determine if an API error is retriable.\n"
      ],
      "metadata": {
        "id": "lc3idcIyiext"
      }
    },
    {
      "cell_type": "code",
      "source": [
        "#This checks for specific error codes (429: Too Many Requests, 503: Service Unavailable).\n",
        "def is_retriable(exception: Exception) -> bool:\n",
        "    return isinstance(exception, genai.errors.APIError) and exception.code in {429, 503}"
      ],
      "metadata": {
        "id": "P22HvOIYijkq"
      },
      "execution_count": 7,
      "outputs": []
    },
    {
      "cell_type": "markdown",
      "source": [
        "Generates embeddings for a list of input texts using the Gemini model."
      ],
      "metadata": {
        "id": "RZsoItRJi2A3"
      }
    },
    {
      "cell_type": "code",
      "source": [
        "# Define a custom embedding function using Google's Gemini model.\n",
        "class GeminiEmbeddingFunction(EmbeddingFunction):\n",
        "    \"\"\"\n",
        "    A custom embedding function that uses Google's Gemini model to create embeddings.\n",
        "    \"\"\"\n",
        "\n",
        "    # Specify whether to generate embeddings for documents or queries.\n",
        "    # True for embedding documents, False for embedding queries.\n",
        "    document_mode = True\n",
        "\n",
        "    # Use the retry decorator to automatically retry the embedding call if it fails with a retriable error.\n",
        "    @retry.Retry(predicate=is_retriable)\n",
        "    def __call__(self, input_texts: Documents) -> Embeddings:\n",
        "        \"\"\"\n",
        "        Generates embeddings for a list of input texts using the Gemini model.\n",
        "\n",
        "        Args:\n",
        "            input_texts: A list of strings (documents or queries).\n",
        "\n",
        "        Returns:\n",
        "            A list of embeddings (numerical vectors).\n",
        "        \"\"\"\n",
        "        if self.document_mode:\n",
        "            embedding_task = \"retrieval_document\"\n",
        "        else:\n",
        "            embedding_task = \"retrieval_query\"\n",
        "\n",
        "        model_name = \"models/text-embedding-004\"  # Specify the Gemini embedding model to use\n",
        "\n",
        "        response = client.models.embed_content(\n",
        "            model=model_name,\n",
        "            contents=input_texts,\n",
        "            config=types.EmbedContentConfig(\n",
        "                task_type=embedding_task,\n",
        "            ),\n",
        "        )\n",
        "        return [embedding.values for embedding in response.embeddings]"
      ],
      "metadata": {
        "id": "w5uU_VykiqRM"
      },
      "execution_count": 8,
      "outputs": []
    },
    {
      "cell_type": "markdown",
      "source": [
        "Load the sample document and create embeddings"
      ],
      "metadata": {
        "id": "kJk0yVXxjIlt"
      }
    },
    {
      "cell_type": "code",
      "source": [
        "# Create an instance of the TextLoader to load the content of the sample document.\n",
        "loader = TextLoader(\"sample_document.txt\")\n",
        "documents = loader.load()\n",
        "print(\"\\nLoaded documents:\")\n",
        "print(documents)"
      ],
      "metadata": {
        "colab": {
          "base_uri": "https://localhost:8080/"
        },
        "id": "mst2ZXZhjLeF",
        "outputId": "cdc94b60-1cd7-40ca-d326-054b966d28d3"
      },
      "execution_count": 9,
      "outputs": [
        {
          "output_type": "stream",
          "name": "stdout",
          "text": [
            "\n",
            "Loaded documents:\n",
            "[Document(metadata={'source': 'sample_document.txt'}, page_content='The main topic of this document is the importance of incorporating retrieval mechanisms into large language models (LLMs) to improve their accuracy and ability to provide up-to-date information. This technique, known as Retrieval-Augmented Generation (RAG), allows LLMs to access external knowledge sources at the time of answering a question. This helps to mitigate the issue of LLM hallucinations and provides more grounded and reliable responses.')]\n"
          ]
        }
      ]
    },
    {
      "cell_type": "markdown",
      "source": [
        "Initialize ChromaDB"
      ],
      "metadata": {
        "id": "N0KRsqELjaVo"
      }
    },
    {
      "cell_type": "code",
      "source": [
        "import chromadb\n",
        "# Define the name for your ChromaDB collection.\n",
        "DB_NAME = \"DB_RAGS_STUDY\"\n",
        "\n",
        "# Create an instance of the custom Gemini embedding function.\n",
        "embed_fn = GeminiEmbeddingFunction()\n",
        "# Set the mode to document embedding as we are embedding our document.\n",
        "embed_fn.document_mode = True\n",
        "\n",
        "# Initialize the ChromaDB client.\n",
        "chroma_client = chromadb.Client()\n"
      ],
      "metadata": {
        "colab": {
          "base_uri": "https://localhost:8080/"
        },
        "id": "dPdUkYGhjUsN",
        "outputId": "459abd2d-a713-4d86-8c8c-f09abe0f39a5"
      },
      "execution_count": 10,
      "outputs": [
        {
          "output_type": "stream",
          "name": "stderr",
          "text": [
            "<ipython-input-10-4cd026072012>:6: DeprecationWarning: The class GeminiEmbeddingFunction does not implement __init__. This will be required in a future version.\n",
            "  embed_fn = GeminiEmbeddingFunction()\n"
          ]
        }
      ]
    },
    {
      "cell_type": "markdown",
      "source": [
        "Get or create a ChromaDB collection with the specified name and embedding function."
      ],
      "metadata": {
        "id": "257-6DfgjiH0"
      }
    },
    {
      "cell_type": "code",
      "source": [
        "db = chroma_client.get_or_create_collection(name=DB_NAME, embedding_function=embed_fn)"
      ],
      "metadata": {
        "id": "GSRRm0_6jjHi"
      },
      "execution_count": 11,
      "outputs": []
    },
    {
      "cell_type": "markdown",
      "source": [
        "Extract text content and metadata from the loaded documents."
      ],
      "metadata": {
        "id": "a-6Qg9jujqR3"
      }
    },
    {
      "cell_type": "code",
      "source": [
        "texts = [doc.page_content for doc in documents]\n",
        "metadatas = [doc.metadata for doc in documents]\n",
        "# Generate unique IDs for each document.\n",
        "ids = [f\"doc_{i}\" for i in range(len(documents))]"
      ],
      "metadata": {
        "id": "JDYZA7BsjslJ"
      },
      "execution_count": 12,
      "outputs": []
    },
    {
      "cell_type": "markdown",
      "source": [
        "Add the documents (along with their embeddings generated by Gemini) to the Chroma database."
      ],
      "metadata": {
        "id": "XUBJv4XtjvD8"
      }
    },
    {
      "cell_type": "code",
      "source": [
        "# Add the documents to the Chroma database\n",
        "db.add(\n",
        "    documents=texts,\n",
        "    metadatas=metadatas,\n",
        "    ids=ids\n",
        ")"
      ],
      "metadata": {
        "id": "_lKXb582j1JW"
      },
      "execution_count": 13,
      "outputs": []
    },
    {
      "cell_type": "code",
      "source": [
        "print(f\"\\nSuccessfully added {db.count()} documents to the Chroma database '{DB_NAME}'.\")"
      ],
      "metadata": {
        "colab": {
          "base_uri": "https://localhost:8080/"
        },
        "id": "YohuYUhKj4Sd",
        "outputId": "c84af428-4315-4383-99d9-288fcf0c5fc4"
      },
      "execution_count": 14,
      "outputs": [
        {
          "output_type": "stream",
          "name": "stdout",
          "text": [
            "\n",
            "Successfully added 1 documents to the Chroma database 'DB_RAGS_STUDY'.\n"
          ]
        }
      ]
    },
    {
      "cell_type": "code",
      "source": [
        "# Peek at the first document in the database.\n",
        "print(\"\\nFirst document in ChromaDB:\")\n",
        "print(db.peek(1))"
      ],
      "metadata": {
        "colab": {
          "base_uri": "https://localhost:8080/"
        },
        "collapsed": true,
        "id": "GuD6bPG_j_q3",
        "outputId": "9e7eb2c7-f658-4c95-9ac5-3945ba97d144"
      },
      "execution_count": 15,
      "outputs": [
        {
          "output_type": "stream",
          "name": "stdout",
          "text": [
            "\n",
            "First document in ChromaDB:\n",
            "{'ids': ['doc_0'], 'embeddings': array([[-1.86554063e-02, -1.62896700e-02, -4.62222472e-02,\n",
            "        -4.53758053e-03, -2.24068332e-02,  4.93324213e-02,\n",
            "         5.23511171e-02,  9.61183570e-03,  1.96905360e-02,\n",
            "        -2.17311867e-02, -4.21531200e-02, -2.01586448e-02,\n",
            "         1.86433922e-02,  4.97282408e-02, -1.47368154e-02,\n",
            "        -6.73633888e-02,  2.69820113e-02,  3.30568776e-02,\n",
            "        -9.75081399e-02,  1.63301043e-02,  5.08912988e-02,\n",
            "        -4.81878407e-03, -3.74729820e-02, -8.58033895e-02,\n",
            "         8.28337763e-03,  1.00733424e-02,  7.34359324e-02,\n",
            "         3.34843658e-02, -1.84799135e-02, -1.80099029e-02,\n",
            "         3.70334387e-02,  3.13867144e-02,  3.54910307e-02,\n",
            "        -2.82912385e-02, -2.22430024e-02,  3.16597037e-02,\n",
            "         1.55155119e-02,  1.19550945e-02,  5.66228153e-03,\n",
            "        -9.05678794e-02, -3.45838517e-02,  2.40887962e-02,\n",
            "        -1.83241291e-03,  3.82712819e-02, -5.19264638e-02,\n",
            "         2.27129161e-02,  4.16369848e-02,  9.97208133e-02,\n",
            "         9.18127317e-03,  4.42246720e-02, -9.47061181e-03,\n",
            "        -5.57549037e-02, -3.75078395e-02,  1.95420068e-03,\n",
            "        -5.12765199e-02,  2.04033162e-02, -5.89598119e-02,\n",
            "         3.11267097e-02,  3.38726714e-02, -4.54880595e-02,\n",
            "        -8.09823535e-03, -1.41546447e-02,  6.50654547e-03,\n",
            "        -2.94423699e-02, -7.13672081e-04, -5.40917106e-02,\n",
            "        -4.32526581e-02, -2.38110907e-02, -4.80553396e-02,\n",
            "         6.14150520e-03, -1.21554462e-02,  4.05363888e-02,\n",
            "        -5.22881001e-02,  6.65271208e-02, -1.16225462e-02,\n",
            "        -6.41657189e-02,  2.76606604e-02, -3.70846428e-02,\n",
            "        -2.72159092e-02,  5.57476431e-02, -4.87014838e-02,\n",
            "         1.43706882e-02,  5.24857640e-02,  1.57984812e-02,\n",
            "         3.76068205e-02, -1.90591700e-02,  3.27899642e-02,\n",
            "        -9.27021354e-02, -7.00730607e-02, -4.04147692e-02,\n",
            "         7.15470836e-02,  1.53114395e-02, -5.33327200e-02,\n",
            "        -1.25787267e-03,  2.15891171e-02, -6.03232123e-02,\n",
            "        -1.64978411e-02, -3.27145681e-02,  1.56295747e-02,\n",
            "         8.64163190e-02, -4.01970968e-02, -1.51127754e-02,\n",
            "         4.17864732e-02, -7.06503391e-02,  4.53202352e-02,\n",
            "         7.66152516e-02,  3.85933593e-02, -3.75591293e-02,\n",
            "        -5.75033240e-02, -5.57741104e-03, -1.08355307e-03,\n",
            "         1.15545187e-02,  4.02558269e-03, -2.97878888e-02,\n",
            "        -3.42685431e-02, -2.89914776e-02, -9.01222602e-03,\n",
            "        -1.60752479e-02, -1.03355953e-02, -9.65504441e-03,\n",
            "        -3.28946635e-02,  2.13315394e-02,  1.79873500e-02,\n",
            "         4.94259596e-02,  3.71856652e-02, -1.42903021e-02,\n",
            "         2.06568581e-03, -1.18302852e-02, -7.62659535e-02,\n",
            "        -4.91347746e-04,  1.14235789e-01, -8.28477740e-02,\n",
            "        -4.96517261e-03, -8.90195649e-03, -2.91313860e-03,\n",
            "        -4.45356146e-02,  2.10809708e-02, -1.36411116e-02,\n",
            "         8.45931750e-03,  5.84651995e-03,  5.26303947e-02,\n",
            "        -5.90865947e-02, -1.01218402e-01,  1.89950299e-02,\n",
            "         2.87240241e-02, -7.14530423e-02, -2.09194552e-02,\n",
            "         7.10458905e-02, -1.42414495e-02,  4.46141101e-02,\n",
            "        -4.04828638e-02, -5.08062206e-02,  3.69046954e-03,\n",
            "        -1.41798807e-02, -1.79853421e-02, -2.71293279e-02,\n",
            "         2.24242043e-02, -3.76902893e-02,  4.87171374e-02,\n",
            "         1.51506271e-02,  3.81846353e-02, -5.31808473e-02,\n",
            "         4.13024239e-02, -8.77901819e-03, -8.57719705e-02,\n",
            "        -1.30520377e-03,  1.39174387e-02, -5.75734079e-02,\n",
            "         1.37008438e-02,  2.79041287e-02, -1.02480343e-02,\n",
            "         9.99026746e-03, -5.50919352e-03, -8.00191090e-02,\n",
            "         3.83422598e-02,  1.46459844e-02, -1.04171075e-02,\n",
            "        -4.73314486e-02, -6.48527294e-02, -8.18044879e-03,\n",
            "         9.51043889e-02,  1.64624956e-02,  4.04698541e-03,\n",
            "        -5.27642071e-02, -6.49398498e-05,  1.55841885e-02,\n",
            "         5.38856210e-03, -1.92535426e-02,  3.06075029e-02,\n",
            "         6.49606362e-02,  5.91109600e-03, -3.24488953e-02,\n",
            "        -9.00893286e-03, -5.89800347e-03, -2.59370785e-02,\n",
            "        -2.24360060e-02, -3.34302033e-03, -8.09478611e-02,\n",
            "         1.11863371e-02, -2.54829917e-02,  1.82345305e-02,\n",
            "         6.37478987e-03,  1.26608023e-02, -4.07174639e-02,\n",
            "         8.81522149e-03,  1.89505238e-02,  1.89776979e-02,\n",
            "        -4.62867953e-02,  3.09949089e-02,  1.46488361e-02,\n",
            "        -1.73507293e-03, -1.95916072e-02, -2.92685209e-03,\n",
            "        -7.40672275e-02, -1.13416985e-02, -1.63272191e-02,\n",
            "         5.29006906e-02, -4.16395348e-03,  6.38158545e-02,\n",
            "        -3.59526388e-02, -2.14266628e-02, -4.94458787e-02,\n",
            "        -2.72330791e-02,  3.89038265e-04,  2.66525503e-02,\n",
            "         5.28528951e-02, -4.00319211e-02, -2.47224085e-02,\n",
            "         1.29926335e-02, -5.42529225e-02,  4.38873470e-02,\n",
            "         3.79487686e-02, -5.70518384e-03,  3.54845705e-03,\n",
            "         7.53273722e-03,  8.37670825e-03,  1.32276490e-02,\n",
            "        -3.66164983e-04,  3.11131738e-02,  2.37925815e-06,\n",
            "        -7.00331032e-02,  8.15409720e-02,  1.57805718e-02,\n",
            "        -2.66638659e-02,  3.30201606e-03, -1.33015802e-02,\n",
            "         8.35230201e-03,  2.24639326e-02, -1.05703212e-02,\n",
            "        -8.25891867e-02, -6.45158626e-03, -7.30900988e-02,\n",
            "        -7.45607633e-03, -7.75666209e-03, -6.60160333e-02,\n",
            "        -1.40140811e-02,  3.20697129e-02,  4.05959263e-02,\n",
            "        -6.19419143e-02, -3.64527740e-02,  3.10377218e-02,\n",
            "        -1.83597412e-02, -3.23118158e-02, -5.33679575e-02,\n",
            "        -8.59735813e-03, -7.09840581e-02, -1.11197471e-03,\n",
            "         2.63015497e-02,  6.39713556e-02,  3.54859456e-02,\n",
            "         9.19991359e-03, -5.39508136e-03, -1.92147251e-02,\n",
            "        -6.82460740e-02, -6.72490746e-02,  1.01934075e-02,\n",
            "        -2.14312654e-02,  9.19717178e-03, -2.25024782e-02,\n",
            "        -6.56105578e-03,  1.80913229e-02,  8.07118881e-03,\n",
            "        -1.43534578e-02, -6.17366508e-02,  3.11506875e-02,\n",
            "        -3.89387868e-02,  2.31369082e-02,  1.35299247e-02,\n",
            "        -3.49992625e-02, -4.18806709e-02,  2.86498889e-02,\n",
            "         4.18759696e-02,  1.51119558e-02, -2.56101973e-02,\n",
            "         2.04829890e-02,  2.34241616e-02,  2.94596627e-02,\n",
            "         5.88432327e-02, -1.15471575e-02, -1.35631803e-02,\n",
            "         2.03694608e-02,  2.59685423e-02,  2.81609725e-02,\n",
            "         4.94953096e-02,  4.41893376e-02,  4.44474295e-02,\n",
            "         5.39044896e-03, -3.97770144e-02, -8.86553228e-02,\n",
            "         1.74574070e-02,  4.00237292e-02,  1.76758282e-02,\n",
            "        -4.82735075e-02, -3.13914753e-02, -6.30517602e-02,\n",
            "        -5.30682132e-03, -1.27891272e-01,  6.81259530e-03,\n",
            "         7.32817361e-03, -1.95998307e-02,  1.87305454e-02,\n",
            "         3.36886384e-02, -3.85827571e-02,  7.85363931e-03,\n",
            "         4.16310690e-02, -1.22210030e-02, -4.74544941e-03,\n",
            "         2.01857835e-02,  1.25208003e-02,  2.00651381e-02,\n",
            "         4.21667770e-02,  1.99894365e-02,  2.89637689e-02,\n",
            "        -2.86671259e-02, -9.18268692e-03, -3.44034024e-02,\n",
            "         1.42777814e-02,  4.98600490e-02,  3.87165919e-02,\n",
            "         6.81775659e-02,  2.16192473e-02,  1.55938677e-02,\n",
            "         3.16129550e-02,  6.02153353e-02, -6.34938180e-02,\n",
            "         1.76689439e-02,  1.62902344e-02, -1.05425688e-02,\n",
            "         9.92681459e-03,  1.60984956e-02, -3.87849025e-02,\n",
            "         3.30795087e-02,  5.30040041e-02,  2.88829993e-04,\n",
            "        -2.69184671e-02, -3.36811990e-02,  4.37985398e-02,\n",
            "        -1.50494063e-02,  1.24391811e-02, -3.06027867e-02,\n",
            "        -1.74752921e-02,  1.88755302e-03, -2.34814845e-02,\n",
            "         3.13031711e-02,  1.29008880e-02, -7.28647038e-02,\n",
            "         3.15012522e-02, -1.94252189e-02, -1.83513202e-02,\n",
            "        -1.15008038e-02,  2.32088361e-02,  4.94810520e-03,\n",
            "         3.59227546e-02, -4.09091078e-02,  4.47282717e-02,\n",
            "        -3.85160819e-02,  2.00834200e-02,  6.98794574e-02,\n",
            "         3.87604139e-03, -4.81204540e-02, -2.05920055e-03,\n",
            "        -3.21428776e-02,  1.01430900e-02, -3.03687324e-04,\n",
            "         1.09920129e-02,  5.03711067e-02, -6.57146052e-03,\n",
            "        -4.62528840e-02,  1.04304990e-02, -3.36930640e-02,\n",
            "        -2.40597632e-02,  2.46442053e-02,  3.31785381e-02,\n",
            "         3.21553499e-02,  5.09195076e-03,  9.03930515e-03,\n",
            "        -6.85991943e-02,  4.71667089e-02,  2.86645703e-02,\n",
            "         3.96653861e-02, -6.41976809e-03, -5.01644090e-02,\n",
            "         4.07683440e-02, -5.65590225e-02, -3.26740444e-02,\n",
            "         1.64789949e-02,  8.39738548e-02,  3.62196118e-02,\n",
            "        -3.47970389e-02, -2.69668214e-02, -3.82172801e-02,\n",
            "        -3.93467098e-02, -3.74109903e-03,  2.12052558e-02,\n",
            "        -5.65659367e-02, -1.25144813e-02,  6.12211935e-02,\n",
            "        -5.21278046e-02,  2.57315231e-03,  6.36729226e-02,\n",
            "         9.26168449e-03, -3.82848121e-02,  3.58645841e-02,\n",
            "         4.06287145e-03,  7.43189780e-03, -3.71338762e-02,\n",
            "         3.88162993e-02,  1.80907082e-02,  5.35638304e-03,\n",
            "         6.31563887e-02, -4.82237712e-03,  1.40639693e-02,\n",
            "        -9.08559840e-03,  5.45504205e-02,  3.38871032e-02,\n",
            "         5.56081124e-02,  2.22445652e-02,  9.40473547e-05,\n",
            "        -2.12995689e-02, -1.32513549e-02,  2.57524895e-03,\n",
            "         3.78627819e-03,  3.74511965e-02,  5.33349775e-02,\n",
            "        -1.41607113e-02,  5.25972024e-02,  4.04369012e-02,\n",
            "         4.53411452e-02,  2.12048534e-02, -9.26921591e-02,\n",
            "         4.68384586e-02, -3.45384632e-03, -5.09243570e-02,\n",
            "        -7.25262612e-02, -7.83167630e-02,  3.22674885e-02,\n",
            "        -1.66834723e-02,  1.45718148e-02, -3.66441607e-02,\n",
            "        -1.89066175e-02, -5.49028069e-02, -3.19434665e-02,\n",
            "         7.05973282e-02,  1.13178696e-02, -1.92985013e-02,\n",
            "        -4.08493318e-02,  3.24477963e-02,  1.97991729e-02,\n",
            "        -4.30586860e-02,  1.78996418e-02,  1.14728808e-01,\n",
            "        -2.56274901e-02,  5.35166562e-02,  2.44034678e-02,\n",
            "        -7.04880133e-02,  8.74344958e-04,  5.29622808e-02,\n",
            "         2.67030485e-02,  4.75016497e-02, -3.20399553e-02,\n",
            "        -1.02928234e-02,  3.74989547e-02,  2.18606461e-03,\n",
            "         1.01164710e-02,  1.62295848e-02,  1.55812816e-03,\n",
            "        -4.42427546e-02,  2.96447054e-02, -3.36188935e-02,\n",
            "         2.19035000e-02, -2.44443920e-02, -5.84839704e-03,\n",
            "        -7.30926245e-02, -2.84520090e-02, -2.64160894e-02,\n",
            "         4.93925586e-02,  1.57573856e-02, -3.44046131e-02,\n",
            "        -3.41068092e-03,  2.64510196e-02,  4.56631705e-02,\n",
            "         1.98492836e-02, -3.63219641e-02, -2.30219103e-02,\n",
            "         4.97072935e-03,  3.59499045e-02, -3.00411899e-02,\n",
            "        -3.01550813e-02,  2.82342955e-02,  1.47130424e-02,\n",
            "         2.27486845e-02, -4.09756899e-02, -1.30476886e-02,\n",
            "         2.49214955e-02, -2.73661781e-02,  2.91050132e-02,\n",
            "        -3.94995213e-02,  5.38145229e-02, -7.49982670e-02,\n",
            "         2.05581039e-02, -3.50886509e-02,  1.68760568e-02,\n",
            "         4.33708169e-02, -2.70179398e-02, -2.71434039e-02,\n",
            "        -3.70042920e-02,  3.04004829e-02, -1.41974818e-02,\n",
            "         8.40758439e-03, -6.78536668e-02, -3.59339043e-02,\n",
            "         9.20396000e-02,  1.30863097e-02, -8.93609319e-03,\n",
            "        -1.05789956e-02,  5.68015799e-02,  3.76248322e-02,\n",
            "         1.30447671e-02,  5.97233064e-02,  2.61548646e-02,\n",
            "         6.16888609e-03, -1.23796416e-02,  8.69062170e-03,\n",
            "         2.01667715e-02,  3.97098362e-02, -2.00860407e-02,\n",
            "         1.39442831e-02,  2.05904227e-02,  9.69376694e-03,\n",
            "         9.52288657e-02,  4.65974659e-02,  1.05777220e-03,\n",
            "         1.53419822e-02,  5.66112734e-02,  2.19011642e-02,\n",
            "         2.19587386e-02,  2.35470943e-02,  3.71425524e-02,\n",
            "        -7.44966231e-03, -3.06907333e-02,  3.28339450e-02,\n",
            "        -3.26570533e-02,  2.01400872e-02,  1.47172250e-03,\n",
            "         1.17757874e-04, -1.07570803e-02, -4.07857075e-02,\n",
            "         8.11265223e-03, -3.48048583e-02,  3.18279769e-03,\n",
            "         5.71623119e-03, -1.22230109e-02, -1.73796359e-02,\n",
            "        -1.85617749e-02, -4.44815581e-04, -2.62660012e-02,\n",
            "         7.23650958e-03, -3.63584654e-03,  3.16634141e-02,\n",
            "        -4.50942703e-02,  1.85277313e-02, -1.29864700e-02,\n",
            "         7.29514882e-02, -6.66091591e-03, -1.09293510e-03,\n",
            "         2.70884838e-02, -2.67331265e-02,  1.63110048e-02,\n",
            "        -8.97554122e-03, -3.18409540e-02, -2.48699468e-02,\n",
            "         4.14335132e-02,  4.59247082e-02, -1.53639568e-02,\n",
            "         3.36406119e-02, -1.92492418e-02, -9.54072773e-02,\n",
            "         1.10776480e-02, -5.44840842e-03,  4.26357575e-02,\n",
            "         9.48682614e-03, -2.64509469e-02,  4.68465798e-02,\n",
            "        -1.83632076e-02, -1.23943510e-02, -3.11549809e-02,\n",
            "        -3.24750580e-02, -3.36650992e-03,  3.42289242e-03,\n",
            "        -3.72022986e-02, -3.03427260e-02,  4.02177051e-02,\n",
            "        -2.96942778e-02, -3.72420475e-02, -1.01002492e-01,\n",
            "        -1.91951841e-02, -7.87735432e-02,  1.09981783e-02,\n",
            "        -8.56863055e-03,  1.91863757e-02, -1.07920635e-02,\n",
            "         3.82857844e-02,  2.25507934e-02,  5.13804960e-04,\n",
            "         2.06994284e-02, -1.19128721e-02,  2.58911750e-03,\n",
            "         1.95789021e-02,  2.32122429e-02, -1.57369804e-02,\n",
            "        -2.05899104e-02, -5.71040530e-03,  3.17185856e-02,\n",
            "        -1.99164841e-02, -9.76859778e-03,  1.10904668e-02,\n",
            "         2.80741062e-02, -2.57476717e-02,  2.53552455e-03,\n",
            "        -2.80923373e-03,  4.88930708e-03,  4.39022221e-02,\n",
            "         1.49458619e-02, -1.56334061e-02, -1.39492694e-02,\n",
            "         7.50634680e-03, -3.42637375e-02, -5.03177615e-03,\n",
            "         1.91468280e-02, -7.98958261e-03, -3.84267457e-02,\n",
            "         2.14475971e-02, -1.60421133e-02,  1.52233979e-02,\n",
            "        -3.75842527e-02,  1.14618521e-02, -3.60690244e-02,\n",
            "        -7.45623140e-03, -2.47980235e-03, -3.83123616e-03,\n",
            "        -1.48205403e-02, -2.45361682e-02, -3.75630371e-02,\n",
            "         6.26526773e-02, -2.34382716e-03, -1.62688195e-06,\n",
            "        -5.86207351e-03,  1.32845202e-02, -1.06531018e-02,\n",
            "         9.37144924e-03, -2.73751952e-02, -4.31475267e-02,\n",
            "         1.86954308e-02, -5.20182028e-03, -2.47288253e-02,\n",
            "         9.47719254e-03,  3.64553928e-02,  1.87525060e-02,\n",
            "        -2.05384158e-02,  7.20413495e-03,  7.88835809e-03,\n",
            "        -1.70550831e-02, -3.46342847e-02, -1.72495246e-02,\n",
            "         4.11572419e-02, -2.46115448e-03,  1.22157848e-02,\n",
            "        -8.57262872e-04, -3.79126146e-02,  2.39470303e-02,\n",
            "        -9.18417517e-03, -2.37912480e-02, -3.15930843e-02,\n",
            "         2.33374797e-02,  3.41419503e-02,  5.01944497e-02,\n",
            "         2.12365575e-02,  6.96999058e-02, -5.67200743e-02,\n",
            "        -2.51329262e-02, -1.12118311e-02,  1.38251251e-02,\n",
            "        -4.11874540e-02, -3.53707224e-02, -9.02359560e-03,\n",
            "         2.46333238e-02,  6.84244335e-02, -1.24791628e-02,\n",
            "        -7.35348240e-02,  1.46274529e-02, -1.30658029e-02,\n",
            "         6.10241331e-02,  5.52443080e-02,  7.11718574e-03,\n",
            "         6.69847766e-04,  3.45995426e-02,  2.27373582e-03,\n",
            "         1.92640461e-02,  1.25120590e-02, -3.86656746e-02,\n",
            "        -7.34489923e-03, -7.82788843e-02,  4.65017073e-02,\n",
            "         2.54583564e-02, -2.83281528e-03, -2.29786779e-03,\n",
            "        -2.48543750e-02, -5.31845586e-03,  2.32614167e-02,\n",
            "         1.73978340e-02,  7.72237554e-02, -2.21286993e-02,\n",
            "        -1.53586483e-02,  1.34247374e-02, -1.68433413e-02,\n",
            "        -2.16914099e-02,  1.68233197e-02,  1.33405160e-02,\n",
            "        -2.22861338e-02, -2.04101950e-02,  1.26509564e-02,\n",
            "        -3.56043205e-02, -2.57117376e-02,  9.11733788e-03,\n",
            "         1.60239916e-02, -2.41767056e-02,  5.33350557e-03,\n",
            "        -4.90139564e-03, -1.34868557e-02,  9.96315107e-03,\n",
            "        -5.08585013e-02, -4.40211780e-02,  4.87441048e-02,\n",
            "         1.19232747e-03, -1.73620041e-02, -4.20874171e-02,\n",
            "         1.60006841e-03, -1.15121603e-02, -1.45061594e-02,\n",
            "         5.91149554e-03,  7.95190223e-03,  4.65885103e-02,\n",
            "        -3.13745402e-02,  8.06601904e-03, -1.63279939e-02,\n",
            "        -3.37482616e-02,  5.88199683e-02,  7.06189685e-03]]), 'documents': ['The main topic of this document is the importance of incorporating retrieval mechanisms into large language models (LLMs) to improve their accuracy and ability to provide up-to-date information. This technique, known as Retrieval-Augmented Generation (RAG), allows LLMs to access external knowledge sources at the time of answering a question. This helps to mitigate the issue of LLM hallucinations and provides more grounded and reliable responses.'], 'uris': None, 'included': ['embeddings', 'metadatas', 'documents'], 'data': None, 'metadatas': [{'source': 'sample_document.txt'}]}\n"
          ]
        }
      ]
    },
    {
      "cell_type": "code",
      "source": [
        "# Print the total number of documents in the database.\n",
        "print(f\"\\nNumber of documents in ChromaDB: {db.count()}\")"
      ],
      "metadata": {
        "colab": {
          "base_uri": "https://localhost:8080/"
        },
        "id": "O1nMEWZmkBU5",
        "outputId": "0b58ba4d-0f90-450c-e713-24c4761f6de6"
      },
      "execution_count": 16,
      "outputs": [
        {
          "output_type": "stream",
          "name": "stdout",
          "text": [
            "\n",
            "Number of documents in ChromaDB: 1\n"
          ]
        }
      ]
    },
    {
      "cell_type": "markdown",
      "source": [
        "Search the ChromaDB database"
      ],
      "metadata": {
        "id": "TErRfbOHqpE4"
      }
    },
    {
      "cell_type": "code",
      "source": [
        "#The line embed_fn.document_mode = False sets a flag within your custom embedding function (GeminiEmbeddingFunction)\n",
        "#to indicate that you are now going to generate embeddings for a search query rather than for a document.\n",
        "\n",
        "embed_fn.document_mode = False"
      ],
      "metadata": {
        "id": "-II-i8xrkFUE"
      },
      "execution_count": 17,
      "outputs": []
    },
    {
      "cell_type": "code",
      "source": [
        "# Define the search query.\n",
        "query = \"What does RAG means?\"\n",
        "\n",
        "# Search the ChromaDB database using the query.\n",
        "# ChromaDB will automatically embed the query using the same embedding function\n",
        "# and find the most similar documents.\n",
        "result = db.query(query_texts=[query], n_results=1)\n",
        "# Extract the text content of the top matching document.\n",
        "[all_passages] = result[\"documents\"]\n",
        "\n",
        "print(\"\\nRetrieved passage from ChromaDB:\")\n",
        "# Display the retrieved passage using Markdown for better formatting.\n",
        "Markdown(all_passages[0])"
      ],
      "metadata": {
        "colab": {
          "base_uri": "https://localhost:8080/",
          "height": 116
        },
        "id": "mX6KXbIHkIIS",
        "outputId": "4b0b4823-2d36-49a3-d008-ceebdab0f69f"
      },
      "execution_count": 18,
      "outputs": [
        {
          "output_type": "stream",
          "name": "stdout",
          "text": [
            "\n",
            "Retrieved passage from ChromaDB:\n"
          ]
        },
        {
          "output_type": "execute_result",
          "data": {
            "text/plain": [
              "<IPython.core.display.Markdown object>"
            ],
            "text/markdown": "The main topic of this document is the importance of incorporating retrieval mechanisms into large language models (LLMs) to improve their accuracy and ability to provide up-to-date information. This technique, known as Retrieval-Augmented Generation (RAG), allows LLMs to access external knowledge sources at the time of answering a question. This helps to mitigate the issue of LLM hallucinations and provides more grounded and reliable responses."
          },
          "metadata": {},
          "execution_count": 18
        }
      ]
    },
    {
      "cell_type": "markdown",
      "source": [
        "Generate an answer using the Gemini language model"
      ],
      "metadata": {
        "id": "i2ron2cekP26"
      }
    },
    {
      "cell_type": "code",
      "source": [
        "query_oneline = query.replace(\"\\n\", \" \")\n",
        "\n",
        "# This prompt is where you can specify any guidance on tone, or what topics the model should stick to, or avoid.\n",
        "prompt = f\"\"\"You are a helpful and informative bot that answers questions using text from the reference passage included below.\n",
        "Be sure to respond in a complete sentence, being comprehensive, including all relevant background information.\n",
        "However, you are talking to a non-technical audience, so be sure to break down complicated concepts and\n",
        "strike a friendly and converstional tone. If the passage is irrelevant to the answer, you may ignore it.\n",
        "\n",
        "QUESTION: {query_oneline}\n",
        "\"\"\"\n",
        "\n",
        "# Add the retrieved documents to the prompt.\n",
        "for passage in all_passages:\n",
        "    passage_oneline = passage.replace(\"\\n\", \" \")\n",
        "    prompt += f\"PASSAGE: {passage_oneline}\\n\"\n",
        "\n",
        "print(prompt)\n",
        "\n",
        "# Generate content using the Gemini Pro model with the constructed prompt.\n",
        "# Access the models object through the client object\n",
        "answer = client.models.generate_content(\n",
        "    model=\"gemini-2.0-flash\",\n",
        "    contents=prompt)\n",
        "\n",
        "print(\"\\nAnswer:\")\n",
        "# Display the generated answer using Markdown for better formatting.\n",
        "Markdown(answer.text)"
      ],
      "metadata": {
        "colab": {
          "base_uri": "https://localhost:8080/",
          "height": 257
        },
        "id": "YW9NawsvkVPx",
        "outputId": "8789b792-f6d2-4e61-f350-154e38a8aadf"
      },
      "execution_count": 22,
      "outputs": [
        {
          "output_type": "stream",
          "name": "stdout",
          "text": [
            "You are a helpful and informative bot that answers questions using text from the reference passage included below.\n",
            "Be sure to respond in a complete sentence, being comprehensive, including all relevant background information.\n",
            "However, you are talking to a non-technical audience, so be sure to break down complicated concepts and\n",
            "strike a friendly and converstional tone. If the passage is irrelevant to the answer, you may ignore it.\n",
            "\n",
            "QUESTION: What does RAG means?\n",
            "PASSAGE: The main topic of this document is the importance of incorporating retrieval mechanisms into large language models (LLMs) to improve their accuracy and ability to provide up-to-date information. This technique, known as Retrieval-Augmented Generation (RAG), allows LLMs to access external knowledge sources at the time of answering a question. This helps to mitigate the issue of LLM hallucinations and provides more grounded and reliable responses.\n",
            "\n",
            "\n",
            "Answer:\n"
          ]
        },
        {
          "output_type": "execute_result",
          "data": {
            "text/plain": [
              "<IPython.core.display.Markdown object>"
            ],
            "text/markdown": "Okay, so Retrieval-Augmented Generation, or RAG for short, is a way to make large language models better by allowing them to grab information from outside sources when they're answering a question. This helps the models be more accurate and up-to-date, and also reduces the chances of them making stuff up.\n"
          },
          "metadata": {},
          "execution_count": 22
        }
      ]
    },
    {
      "cell_type": "markdown",
      "source": [
        "**gemini-2.0-flash**: This model is typically designed to be more cost-effective and optimized for speed. It's often suitable for tasks where low latency and high throughput are important, and where the complexity of the reasoning might be slightly lower. You can likely expect it to be priced lower per 1,000 characters or tokens compared to gemini-pro.\n",
        "\n",
        "**gemini-pro**: This model is usually positioned as a more capable and powerful model, capable of handling more complex reasoning, understanding, and generation tasks. As a result of its enhanced capabilities, it typically comes with a higher cost per 1,000 characters or tokens compared to the \"flash\" variant."
      ],
      "metadata": {
        "id": "AzNlNTKBrpji"
      }
    },
    {
      "cell_type": "markdown",
      "source": [
        "For a much more challenging example of RAGS: https://www.kaggle.com/code/anurags397/pkmn-ask-em-all-rag-guide"
      ],
      "metadata": {
        "id": "l2HCtHvusGCZ"
      }
    }
  ]
}